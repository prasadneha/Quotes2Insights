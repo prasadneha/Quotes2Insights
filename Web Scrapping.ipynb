{
 "cells": [
  {
   "cell_type": "markdown",
   "id": "217f9e05",
   "metadata": {},
   "source": [
    "# Part 1: Web Scraping (Using Python)"
   ]
  },
  {
   "cell_type": "code",
   "execution_count": 1,
   "id": "2e74e692",
   "metadata": {},
   "outputs": [],
   "source": [
    "# Importing necessary libraries\n",
    "import requests\n",
    "from bs4 import BeautifulSoup\n",
    "import pandas as pd"
   ]
  },
  {
   "cell_type": "code",
   "execution_count": 2,
   "id": "1998090f",
   "metadata": {},
   "outputs": [],
   "source": [
    "# base url for quotes website\n",
    "base_url='http://quotes.toscrape.com/'"
   ]
  },
  {
   "cell_type": "code",
   "execution_count": 3,
   "id": "ee0f9c07",
   "metadata": {},
   "outputs": [],
   "source": [
    "\"\"\"The below function Scrapes quotes, authors, and tags from all pages(10 pages available) of 'quotes.toscrape.com'.\n",
    "   It Returns a Pandas DataFrame containing:\n",
    "     - Author\n",
    "     - Quote\n",
    "     - TagNames (comma-separated tags for each quote)\n",
    "\"\"\"\n",
    "def fetch_data(base_url):\n",
    "    \n",
    "    # Lists to store data from each page\n",
    "    all_authors = []\n",
    "    all_texts = []\n",
    "    all_tags = []\n",
    "    \n",
    "    # Loop through pages 1 to 10\n",
    "    for i in range(1,11):\n",
    "        # Creates the page-specific url\n",
    "        url=f\"{base_url}page/{i}/\"\n",
    "        # Sending a GET request to fetch the page content\n",
    "        response=requests.get(url)  \n",
    "        \n",
    "        # Checking if the request was successfull\n",
    "        if response.status_code==200:\n",
    "            # Parsing the HTML response using Beautifulsoup\n",
    "            soup=BeautifulSoup(response.text,'html.parser')\n",
    "            \n",
    "            #Fetches all the quote block on the particluar page\n",
    "            quotes=soup.find_all('div',{'class':'quote'})\n",
    "            \n",
    "            # Extract author, text and tags from each quote block\n",
    "            for quote in quotes:\n",
    "                author=quote.find('small',{'class':'author'}).text.strip()\n",
    "                text=quote.find('span',{'class':'text'}).text.strip()\n",
    "                \n",
    "                # Removing straight and curly quotes from text\n",
    "                for ch in ['\"', '“', '”']:\n",
    "                    text = text.replace(ch, '')\n",
    "                    \n",
    "                # Find all tag elements within this quote    \n",
    "                tag_elements=quote.find_all('a',{'class':'tag'})\n",
    "                \n",
    "                # creates a list of the text for each tag\n",
    "                tags_list = [t.text.strip() for t in tag_elements]\n",
    "                # Joining them into a single comma-separated string             \n",
    "                tags=\",\".join(tags_list)\n",
    "                    \n",
    "                # Appending each piece of data to the respective list\n",
    "                all_authors.append(author)\n",
    "                all_texts.append(text)\n",
    "                all_tags.append(tags)        \n",
    "\n",
    "        else:\n",
    "            print(f\"Failed to fetch the data.{response.status_code}\")\n",
    "    \n",
    "    # Creating a dataframe to store the quotes data(author,quote,tags)                         \n",
    "    df=pd.DataFrame({\n",
    "        'Author':all_authors,\n",
    "        'Quote':all_texts,\n",
    "        'TagNames':all_tags\n",
    "    })  \n",
    "        \n",
    "    return df\n",
    "\n"
   ]
  },
  {
   "cell_type": "code",
   "execution_count": 4,
   "id": "94fcd560",
   "metadata": {},
   "outputs": [
    {
     "data": {
      "text/html": [
       "<div>\n",
       "<style scoped>\n",
       "    .dataframe tbody tr th:only-of-type {\n",
       "        vertical-align: middle;\n",
       "    }\n",
       "\n",
       "    .dataframe tbody tr th {\n",
       "        vertical-align: top;\n",
       "    }\n",
       "\n",
       "    .dataframe thead th {\n",
       "        text-align: right;\n",
       "    }\n",
       "</style>\n",
       "<table border=\"1\" class=\"dataframe\">\n",
       "  <thead>\n",
       "    <tr style=\"text-align: right;\">\n",
       "      <th></th>\n",
       "      <th>Author</th>\n",
       "      <th>Quote</th>\n",
       "      <th>TagNames</th>\n",
       "    </tr>\n",
       "  </thead>\n",
       "  <tbody>\n",
       "    <tr>\n",
       "      <th>0</th>\n",
       "      <td>Albert Einstein</td>\n",
       "      <td>The world as we have created it is a process o...</td>\n",
       "      <td>change,deep-thoughts,thinking,world</td>\n",
       "    </tr>\n",
       "    <tr>\n",
       "      <th>1</th>\n",
       "      <td>J.K. Rowling</td>\n",
       "      <td>It is our choices, Harry, that show what we tr...</td>\n",
       "      <td>abilities,choices</td>\n",
       "    </tr>\n",
       "    <tr>\n",
       "      <th>2</th>\n",
       "      <td>Albert Einstein</td>\n",
       "      <td>There are only two ways to live your life. One...</td>\n",
       "      <td>inspirational,life,live,miracle,miracles</td>\n",
       "    </tr>\n",
       "    <tr>\n",
       "      <th>3</th>\n",
       "      <td>Jane Austen</td>\n",
       "      <td>The person, be it gentleman or lady, who has n...</td>\n",
       "      <td>aliteracy,books,classic,humor</td>\n",
       "    </tr>\n",
       "    <tr>\n",
       "      <th>4</th>\n",
       "      <td>Marilyn Monroe</td>\n",
       "      <td>Imperfection is beauty, madness is genius and ...</td>\n",
       "      <td>be-yourself,inspirational</td>\n",
       "    </tr>\n",
       "  </tbody>\n",
       "</table>\n",
       "</div>"
      ],
      "text/plain": [
       "            Author                                              Quote  \\\n",
       "0  Albert Einstein  The world as we have created it is a process o...   \n",
       "1     J.K. Rowling  It is our choices, Harry, that show what we tr...   \n",
       "2  Albert Einstein  There are only two ways to live your life. One...   \n",
       "3      Jane Austen  The person, be it gentleman or lady, who has n...   \n",
       "4   Marilyn Monroe  Imperfection is beauty, madness is genius and ...   \n",
       "\n",
       "                                   TagNames  \n",
       "0       change,deep-thoughts,thinking,world  \n",
       "1                         abilities,choices  \n",
       "2  inspirational,life,live,miracle,miracles  \n",
       "3             aliteracy,books,classic,humor  \n",
       "4                 be-yourself,inspirational  "
      ]
     },
     "execution_count": 4,
     "metadata": {},
     "output_type": "execute_result"
    }
   ],
   "source": [
    "# Calling the function and storing the result in 'data'\n",
    "data=fetch_data(base_url)\n",
    "data.head()"
   ]
  },
  {
   "cell_type": "code",
   "execution_count": 6,
   "id": "48094594",
   "metadata": {},
   "outputs": [],
   "source": [
    "\"\"\"\n",
    "The below function Saves the given DataFrame to a CSV file with UTF-8 encoding.\n",
    "This helps avoid encoding issues when opening the file on Windows or importing to MySQL.\n",
    "\n",
    "Parameters:    \n",
    "    data: DataFrame to save\n",
    "    file_name: Name (without .csv extension) to use for the output file\n",
    "\"\"\"\n",
    "\n",
    "def save_data(data,file_name):\n",
    "    try:\n",
    "        # Saves DataFrame to CSV with no index column, using U,encodiTF-8\n",
    "        data.to_csv(f'{file_name}.csv',index=False,encoding=\"utf-8-sig\")\n",
    "        return 'Saved the file successfully!'\n",
    "    except Exception as e:\n",
    "        return f\"Failed to save the file {file_name}.csv :{e}\""
   ]
  },
  {
   "cell_type": "code",
   "execution_count": 7,
   "id": "e3b9d15f",
   "metadata": {},
   "outputs": [
    {
     "data": {
      "text/plain": [
       "'Saved the file successfully!'"
      ]
     },
     "execution_count": 7,
     "metadata": {},
     "output_type": "execute_result"
    }
   ],
   "source": [
    "save_data(data,'quotes_data')"
   ]
  },
  {
   "cell_type": "code",
   "execution_count": null,
   "id": "05b1b2ba",
   "metadata": {},
   "outputs": [],
   "source": []
  }
 ],
 "metadata": {
  "kernelspec": {
   "display_name": "Python 3",
   "language": "python",
   "name": "python3"
  },
  "language_info": {
   "codemirror_mode": {
    "name": "ipython",
    "version": 3
   },
   "file_extension": ".py",
   "mimetype": "text/x-python",
   "name": "python",
   "nbconvert_exporter": "python",
   "pygments_lexer": "ipython3",
   "version": "3.8.8"
  }
 },
 "nbformat": 4,
 "nbformat_minor": 5
}
