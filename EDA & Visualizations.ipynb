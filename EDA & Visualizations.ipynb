{
 "cells": [
  {
   "cell_type": "markdown",
   "id": "67213fff-691c-49a2-ae76-003a2a930f67",
   "metadata": {},
   "source": [
    "# Basic EDA(Exploratory Data Analysis)"
   ]
  },
  {
   "cell_type": "code",
   "execution_count": 24,
   "id": "ee4bf5c9-e425-45f6-83d9-717e30d7189f",
   "metadata": {},
   "outputs": [],
   "source": [
    "import pandas as pd\n",
    "import matplotlib.pyplot as plt\n",
    "import seaborn as sns\n",
    "import re\n",
    "from wordcloud import WordCloud\n",
    "from collections import Counter"
   ]
  },
  {
   "cell_type": "markdown",
   "id": "8b33d7e0-ae84-41a3-919f-a4b832d00cc1",
   "metadata": {},
   "source": [
    "- ### Load the CSV into a Pandas DataFrame."
   ]
  },
  {
   "cell_type": "code",
   "execution_count": 4,
   "id": "3721a3fb-08e3-479f-8d55-6bb709ba4871",
   "metadata": {},
   "outputs": [
    {
     "data": {
      "text/html": [
       "<div>\n",
       "<style scoped>\n",
       "    .dataframe tbody tr th:only-of-type {\n",
       "        vertical-align: middle;\n",
       "    }\n",
       "\n",
       "    .dataframe tbody tr th {\n",
       "        vertical-align: top;\n",
       "    }\n",
       "\n",
       "    .dataframe thead th {\n",
       "        text-align: right;\n",
       "    }\n",
       "</style>\n",
       "<table border=\"1\" class=\"dataframe\">\n",
       "  <thead>\n",
       "    <tr style=\"text-align: right;\">\n",
       "      <th></th>\n",
       "      <th>Author</th>\n",
       "      <th>Quote</th>\n",
       "      <th>TagNames</th>\n",
       "    </tr>\n",
       "  </thead>\n",
       "  <tbody>\n",
       "    <tr>\n",
       "      <th>0</th>\n",
       "      <td>Albert Einstein</td>\n",
       "      <td>The world as we have created it is a process o...</td>\n",
       "      <td>change,deep-thoughts,thinking,world</td>\n",
       "    </tr>\n",
       "    <tr>\n",
       "      <th>1</th>\n",
       "      <td>J.K. Rowling</td>\n",
       "      <td>It is our choices, Harry, that show what we tr...</td>\n",
       "      <td>abilities,choices</td>\n",
       "    </tr>\n",
       "    <tr>\n",
       "      <th>2</th>\n",
       "      <td>Albert Einstein</td>\n",
       "      <td>There are only two ways to live your life. One...</td>\n",
       "      <td>inspirational,life,live,miracle,miracles</td>\n",
       "    </tr>\n",
       "    <tr>\n",
       "      <th>3</th>\n",
       "      <td>Jane Austen</td>\n",
       "      <td>The person, be it gentleman or lady, who has n...</td>\n",
       "      <td>aliteracy,books,classic,humor</td>\n",
       "    </tr>\n",
       "    <tr>\n",
       "      <th>4</th>\n",
       "      <td>Marilyn Monroe</td>\n",
       "      <td>Imperfection is beauty, madness is genius and ...</td>\n",
       "      <td>be-yourself,inspirational</td>\n",
       "    </tr>\n",
       "  </tbody>\n",
       "</table>\n",
       "</div>"
      ],
      "text/plain": [
       "            Author                                              Quote  \\\n",
       "0  Albert Einstein  The world as we have created it is a process o...   \n",
       "1     J.K. Rowling  It is our choices, Harry, that show what we tr...   \n",
       "2  Albert Einstein  There are only two ways to live your life. One...   \n",
       "3      Jane Austen  The person, be it gentleman or lady, who has n...   \n",
       "4   Marilyn Monroe  Imperfection is beauty, madness is genius and ...   \n",
       "\n",
       "                                   TagNames  \n",
       "0       change,deep-thoughts,thinking,world  \n",
       "1                         abilities,choices  \n",
       "2  inspirational,life,live,miracle,miracles  \n",
       "3             aliteracy,books,classic,humor  \n",
       "4                 be-yourself,inspirational  "
      ]
     },
     "execution_count": 4,
     "metadata": {},
     "output_type": "execute_result"
    }
   ],
   "source": [
    "data = 'quotes_data.csv' \n",
    "df = pd.read_csv(data) #reading the data\n",
    "df.head() #printing the first 5 records\n"
   ]
  },
  {
   "cell_type": "markdown",
   "id": "de46a3de-d0f7-4041-af95-021673b4499f",
   "metadata": {},
   "source": [
    "- ### Display basic statistics about the dataset (e.g., missing values, unique authors, number of tags, etc.)."
   ]
  },
  {
   "cell_type": "code",
   "execution_count": 6,
   "id": "a092f2ba-403b-4e58-858e-cb3df78ebc9b",
   "metadata": {},
   "outputs": [
    {
     "name": "stdout",
     "output_type": "stream",
     "text": [
      "<class 'pandas.core.frame.DataFrame'>\n",
      "RangeIndex: 100 entries, 0 to 99\n",
      "Data columns (total 3 columns):\n",
      " #   Column    Non-Null Count  Dtype \n",
      "---  ------    --------------  ----- \n",
      " 0   Author    100 non-null    object\n",
      " 1   Quote     100 non-null    object\n",
      " 2   TagNames  97 non-null     object\n",
      "dtypes: object(3)\n",
      "memory usage: 2.5+ KB\n"
     ]
    }
   ],
   "source": [
    "df.info() #breif information of the table"
   ]
  },
  {
   "cell_type": "code",
   "execution_count": 7,
   "id": "5fc7720e-beb0-4004-bf6c-c2be1fc1f95a",
   "metadata": {},
   "outputs": [
    {
     "data": {
      "text/plain": [
       "0"
      ]
     },
     "execution_count": 7,
     "metadata": {},
     "output_type": "execute_result"
    }
   ],
   "source": [
    "df.duplicated().sum() # checking for the duplicates"
   ]
  },
  {
   "cell_type": "code",
   "execution_count": 8,
   "id": "c8846ea3-bb45-4349-a4f5-6ae4fe896d2a",
   "metadata": {},
   "outputs": [
    {
     "data": {
      "text/plain": [
       "Author      0\n",
       "Quote       0\n",
       "TagNames    3\n",
       "dtype: int64"
      ]
     },
     "execution_count": 8,
     "metadata": {},
     "output_type": "execute_result"
    }
   ],
   "source": [
    "df.isnull().sum() # checking for the null values"
   ]
  },
  {
   "cell_type": "code",
   "execution_count": 9,
   "id": "0c16550e-0d90-464f-840f-6c244a36c4cd",
   "metadata": {},
   "outputs": [
    {
     "data": {
      "text/plain": [
       "Author      0\n",
       "Quote       0\n",
       "TagNames    0\n",
       "dtype: int64"
      ]
     },
     "execution_count": 9,
     "metadata": {},
     "output_type": "execute_result"
    }
   ],
   "source": [
    "df['TagNames'] = df['TagNames'].fillna(df['TagNames'].mode()[0]) #filling the null values with mode of that column\n",
    "df.isnull().sum()                          #finding sum of null values"
   ]
  },
  {
   "cell_type": "code",
   "execution_count": 10,
   "id": "8cdadba4-75d9-4980-8874-bba84fcbf23d",
   "metadata": {},
   "outputs": [
    {
     "data": {
      "text/html": [
       "<div>\n",
       "<style scoped>\n",
       "    .dataframe tbody tr th:only-of-type {\n",
       "        vertical-align: middle;\n",
       "    }\n",
       "\n",
       "    .dataframe tbody tr th {\n",
       "        vertical-align: top;\n",
       "    }\n",
       "\n",
       "    .dataframe thead th {\n",
       "        text-align: right;\n",
       "    }\n",
       "</style>\n",
       "<table border=\"1\" class=\"dataframe\">\n",
       "  <thead>\n",
       "    <tr style=\"text-align: right;\">\n",
       "      <th></th>\n",
       "      <th>Author</th>\n",
       "      <th>Quote</th>\n",
       "      <th>TagNames</th>\n",
       "    </tr>\n",
       "  </thead>\n",
       "  <tbody>\n",
       "    <tr>\n",
       "      <th>count</th>\n",
       "      <td>100</td>\n",
       "      <td>100</td>\n",
       "      <td>100</td>\n",
       "    </tr>\n",
       "    <tr>\n",
       "      <th>unique</th>\n",
       "      <td>50</td>\n",
       "      <td>100</td>\n",
       "      <td>83</td>\n",
       "    </tr>\n",
       "    <tr>\n",
       "      <th>top</th>\n",
       "      <td>Albert Einstein</td>\n",
       "      <td>The world as we have created it is a process o...</td>\n",
       "      <td>love</td>\n",
       "    </tr>\n",
       "    <tr>\n",
       "      <th>freq</th>\n",
       "      <td>10</td>\n",
       "      <td>1</td>\n",
       "      <td>7</td>\n",
       "    </tr>\n",
       "  </tbody>\n",
       "</table>\n",
       "</div>"
      ],
      "text/plain": [
       "                 Author                                              Quote  \\\n",
       "count               100                                                100   \n",
       "unique               50                                                100   \n",
       "top     Albert Einstein  The world as we have created it is a process o...   \n",
       "freq                 10                                                  1   \n",
       "\n",
       "       TagNames  \n",
       "count       100  \n",
       "unique       83  \n",
       "top        love  \n",
       "freq          7  "
      ]
     },
     "execution_count": 10,
     "metadata": {},
     "output_type": "execute_result"
    }
   ],
   "source": [
    "summary = df.describe() # summary of the dataset\n",
    "summary"
   ]
  },
  {
   "cell_type": "code",
   "execution_count": 11,
   "id": "7eeb3ce6-be10-46af-bb6a-cd9fa7eca454",
   "metadata": {},
   "outputs": [
    {
     "name": "stdout",
     "output_type": "stream",
     "text": [
      "Number of Authors: 50\n",
      "\n",
      "Unique AuthorNames are :\n",
      "\n",
      "1. Albert Einstein\n",
      "2. J.K. Rowling\n",
      "3. Jane Austen\n",
      "4. Marilyn Monroe\n",
      "5. André Gide\n",
      "6. Thomas A. Edison\n",
      "7. Eleanor Roosevelt\n",
      "8. Steve Martin\n",
      "9. Bob Marley\n",
      "10. Dr. Seuss\n",
      "11. Douglas Adams\n",
      "12. Elie Wiesel\n",
      "13. Friedrich Nietzsche\n",
      "14. Mark Twain\n",
      "15. Allen Saunders\n",
      "16. Pablo Neruda\n",
      "17. Ralph Waldo Emerson\n",
      "18. Mother Teresa\n",
      "19. Garrison Keillor\n",
      "20. Jim Henson\n",
      "21. Charles M. Schulz\n",
      "22. William Nicholson\n",
      "23. Jorge Luis Borges\n",
      "24. George Eliot\n",
      "25. George R.R. Martin\n",
      "26. C.S. Lewis\n",
      "27. Martin Luther King Jr.\n",
      "28. James Baldwin\n",
      "29. Haruki Murakami\n",
      "30. Alexandre Dumas fils\n",
      "31. Stephenie Meyer\n",
      "32. Ernest Hemingway\n",
      "33. Helen Keller\n",
      "34. George Bernard Shaw\n",
      "35. Charles Bukowski\n",
      "36. Suzanne Collins\n",
      "37. J.R.R. Tolkien\n",
      "38. Alfred Tennyson\n",
      "39. Terry Pratchett\n",
      "40. J.D. Salinger\n",
      "41. George Carlin\n",
      "42. John Lennon\n",
      "43. W.C. Fields\n",
      "44. Ayn Rand\n",
      "45. Jimi Hendrix\n",
      "46. J.M. Barrie\n",
      "47. E.E. Cummings\n",
      "48. Khaled Hosseini\n",
      "49. Harper Lee\n",
      "50. Madeleine L'Engle\n"
     ]
    }
   ],
   "source": [
    "unique_author_count = df['Author'].nunique()          #count of unique authors\n",
    "print('Number of Authors:',unique_author_count)\n",
    "unique_author = df['Author'].unique()                 #unique authors in the dataset\n",
    "print('\\nUnique AuthorNames are :\\n')  \n",
    "i=0\n",
    "for x in unique_author:                               #looping unique_author to get the unique Authors\n",
    "    i+=1\n",
    "    print(f'{i}. {x}')\n",
    " "
   ]
  },
  {
   "cell_type": "code",
   "execution_count": 12,
   "id": "430136a3-1068-4172-8849-0f2993fd59a4",
   "metadata": {},
   "outputs": [
    {
     "name": "stdout",
     "output_type": "stream",
     "text": [
      "Number of unique tags:  137\n"
     ]
    }
   ],
   "source": [
    "all_tags = []                           #creating a empty list\n",
    "for tag in df['TagNames']:             #creating a loop to get the tags from the data set \n",
    "    all_tags.extend(tag.split(','))     #insert all the tags to the list by spliting tags \n",
    "unique_tags = set(all_tags)             # Convert the list of all tags to a set to find unique tags\n",
    "unique_tag_count = len(unique_tags)     # Count of unique tags\n",
    "print('Number of unique tags: ',unique_tag_count)  \n"
   ]
  },
  {
   "cell_type": "code",
   "execution_count": 13,
   "id": "6349426a-3737-471a-a8a7-4bc790ab7b41",
   "metadata": {},
   "outputs": [],
   "source": [
    "df.to_csv('cleaned_dataset.csv',index = False)           # Store the cleaned dataset in a csv file"
   ]
  },
  {
   "cell_type": "code",
   "execution_count": 14,
   "id": "2ba27e91-e017-4fc6-b7ba-d88fba792288",
   "metadata": {},
   "outputs": [
    {
     "name": "stdout",
     "output_type": "stream",
     "text": [
      "<class 'pandas.core.frame.DataFrame'>\n",
      "RangeIndex: 100 entries, 0 to 99\n",
      "Data columns (total 3 columns):\n",
      " #   Column    Non-Null Count  Dtype \n",
      "---  ------    --------------  ----- \n",
      " 0   Author    100 non-null    object\n",
      " 1   Quote     100 non-null    object\n",
      " 2   TagNames  100 non-null    object\n",
      "dtypes: object(3)\n",
      "memory usage: 2.5+ KB\n"
     ]
    }
   ],
   "source": [
    "df1  = pd.read_csv('cleaned_dataset')                # reading cleaned dataset\n",
    "df1.info()                                 "
   ]
  },
  {
   "cell_type": "markdown",
   "id": "dd4e0124-4384-43ee-951b-f09836c961d2",
   "metadata": {},
   "source": [
    "# Data visualization"
   ]
  },
  {
   "cell_type": "markdown",
   "id": "6a8fa142-b38a-43bb-8b4c-cd01533b6367",
   "metadata": {},
   "source": [
    "- ### Bar chart of the top 10 most quoted authors."
   ]
  },
  {
   "cell_type": "code",
   "execution_count": 17,
   "id": "0619146d-d4e1-42c4-b188-605e9a47bff5",
   "metadata": {},
   "outputs": [],
   "source": [
    "# Data Visualization\n",
    "#Retriving the top 10 most quoted authors\n",
    "group = df1['Author'].value_counts()  \n",
    "top_ten = group.head(10)\n",
    "top_ten = top_ten.sort_values()"
   ]
  },
  {
   "cell_type": "code",
   "execution_count": 18,
   "id": "322078a3-770b-43c7-acb2-61b3b36be126",
   "metadata": {},
   "outputs": [
    {
     "data": {
      "image/png": "[encoded data removed]",
      "text/plain": [
       "<Figure size 800x500 with 1 Axes>"
      ]
     },
     "metadata": {},
     "output_type": "display_data"
    }
   ],
   "source": [
    "plt.figure(figsize = (8,5))                  #size of the chart\n",
    "top_ten.plot(kind = 'barh',color = 'skyblue')  \n",
    "plt.title('Top ten most Quoted Authors')       #Tittle of the bar chart\n",
    "plt.xlabel('No.Of Quotes')                     #Name of x-axis\n",
    "plt.ylabel('Name Of Authors')                  #Name of y-axis\n",
    "plt.show()"
   ]
  },
  {
   "cell_type": "markdown",
   "id": "89b81ff9-60ee-4b9d-99f9-806f9dc48b1e",
   "metadata": {},
   "source": [
    "#### Insights:\n",
    "- The above chart is a horizontal bar chart representing the top ten most Quoted Authors\n",
    "- As per the representation 'Albert Einstein' is the author who quoted the most compared to other authors\n",
    "- 'j.k. Rowling' is second highest quoted author who quote the most after the Albert Einstein\n",
    "- The Authors 'Charles Bukowski' and 'Eleanor Roosevelt' are one who had less Quotes when compared to other authors in the graph"
   ]
  },
  {
   "cell_type": "markdown",
   "id": "bac875f5-6101-40b9-a9a4-dcaf577ab184",
   "metadata": {},
   "source": [
    "- ### Word cloud of the most common words in the quotes."
   ]
  },
  {
   "cell_type": "code",
   "execution_count": 21,
   "id": "43600b99-8d45-43b1-b432-f954883108e3",
   "metadata": {},
   "outputs": [
    {
     "ename": "NameError",
     "evalue": "name 'Counter' is not defined",
     "output_type": "error",
     "traceback": [
      "\u001b[1;31m---------------------------------------------------------------------------\u001b[0m",
      "\u001b[1;31mNameError\u001b[0m                                 Traceback (most recent call last)",
      "Cell \u001b[1;32mIn[21], line 14\u001b[0m\n\u001b[0;32m     12\u001b[0m filtered_words \u001b[38;5;241m=\u001b[39m [word \u001b[38;5;28;01mfor\u001b[39;00m word \u001b[38;5;129;01min\u001b[39;00m words \u001b[38;5;28;01mif\u001b[39;00m word \u001b[38;5;129;01mnot\u001b[39;00m \u001b[38;5;129;01min\u001b[39;00m stop_words]\n\u001b[0;32m     13\u001b[0m \u001b[38;5;66;03m# Count the frequency of each word\u001b[39;00m\n\u001b[1;32m---> 14\u001b[0m word_counts \u001b[38;5;241m=\u001b[39m Counter(filtered_words)\n\u001b[0;32m     15\u001b[0m \u001b[38;5;66;03m# retriving top 5 words most used in Quotes\u001b[39;00m\n\u001b[0;32m     16\u001b[0m top_5_words \u001b[38;5;241m=\u001b[39m word_counts\u001b[38;5;241m.\u001b[39mmost_common(\u001b[38;5;241m5\u001b[39m)\n",
      "\u001b[1;31mNameError\u001b[0m: name 'Counter' is not defined"
     ]
    }
   ],
   "source": [
    "#Word cloud of the most common words in the quotes.\n",
    "# Define stop words (you can expand this list as needed)\n",
    "stop_words = set([\"the\", \"is\", \"in\", \"and\", \"you\", \"your\", \"to\", \"a\", \"of\", \"for\", \"on\",\"it\", \"with\", \"as\", \"at\", \"all\", \"by\", \"i\", \"not\",\n",
    "                  \"but\", \"be\", \"that\", \"if\", \"can\", \"s\", \"t\", \"she\", \"are\", \"who\", \"will\", \"what\", \"have\"])\n",
    "# Convert the 'Quote' column to a list of strings\n",
    "Quotes = df1['Quote'].tolist()\n",
    "# Join all quotes into one large string and convert to lowercase\n",
    "all_words = \" \".join(Quotes).lower()\n",
    "# Extract words using regex to split on word boundaries\n",
    "words = re.findall(r'\\b\\w+\\b', all_words)\n",
    "# Filter out stop words\n",
    "filtered_words = [word for word in words if word not in stop_words]\n",
    "# Count the frequency of each word\n",
    "word_counts = Counter(filtered_words)\n",
    "# retriving top 5 words most used in Quotes\n",
    "top_5_words = word_counts.most_common(5)\n",
    "#print(top_5_words)\n",
    "# Print the top 5 most common words and their frequencies\n",
    "print(\"Top 5 Most Common Words:\")\n",
    "for word, frequency in top_5_words:\n",
    "    print(f\"{word}: {frequency}\")"
   ]
  },
  {
   "cell_type": "code",
   "execution_count": null,
   "id": "b84b8e0e-7a1e-4b66-9da3-bbece895db8b",
   "metadata": {},
   "outputs": [],
   "source": [
    "# Create a WordCloud with width,height and background color\n",
    "wordcloud = WordCloud(width=800, height=400, background_color='white').generate_from_frequencies(word_counts)   \n",
    "\n",
    "# Plot the WordCloud\n",
    "plt.figure(figsize=(10, 6))                           # figure size\n",
    "plt.imshow(wordcloud, interpolation='bilinear')       #display word cloud image\n",
    "plt.axis('off')                                       # Hide the axes\n",
    "plt.title('Word Cloud of Most Common Words in Quotes') # title of the Word cloud\n",
    "plt.show()"
   ]
  },
  {
   "cell_type": "markdown",
   "id": "a230072e-305f-4439-ab40-ae101aa50434",
   "metadata": {},
   "source": [
    "#### Insights:\n",
    "- The above chart is a word cloud visualization representing the most common word in the quotes\n",
    "- According to the word cloud it will display words with the highest frequency in larger font size\n",
    "- As per the visualization 'love' is a word that contains highest frequency and having the large font size in the above chart\n",
    "- 'one' is a word that contains the second highest frequency and the words that are having small font size will have the least frequency"
   ]
  },
  {
   "cell_type": "markdown",
   "id": "1ee5e49c-fd24-43bb-b49e-50947782e845",
   "metadata": {},
   "source": [
    "- ### Pie chart showing the proportion of top 5 tags."
   ]
  },
  {
   "cell_type": "code",
   "execution_count": null,
   "id": "a3a8d331-ac6d-490f-ab91-785f91629d35",
   "metadata": {},
   "outputs": [],
   "source": [
    "#top five most used tags\n",
    "tags = df1['TagNames'].str.split(',').explode() #spliting the TagNames and creating one row per tag\n",
    "Tags_value_count = tags.value_counts()          #storing the count of each tag in a variable\n",
    "top_five_tags = Tags_value_count.head(5)        #Retriving the top 5 most used tags\n",
    "top_five_tags"
   ]
  },
  {
   "cell_type": "code",
   "execution_count": null,
   "id": "5a7c4000-d776-4d12-bc4a-96524d478c43",
   "metadata": {},
   "outputs": [],
   "source": [
    "plt.figure(figsize = (5,5))              #size of the pie chart\n",
    "plt.pie(x = top_five_tags,labels = top_five_tags.index,autopct = '%.2f%%')       \n",
    "plt.title('Proportion of top 5 tags')     #Title of the chart\n",
    "plt.show()"
   ]
  },
  {
   "cell_type": "markdown",
   "id": "cd6153fb-11ad-4180-8a22-9c2802a2b756",
   "metadata": {},
   "source": [
    "#### Insights:\n",
    "- The above pie chart is representing the proportion of the top five tags\n",
    "- 'love' tag is having the high percentage i.e 25.76% and the second highest is having two tags\n",
    " life tag and inspirational tag with 19.70%\n",
    "- books tag is having the least proportion i.e 16.67% compared to all other tags"
   ]
  },
  {
   "cell_type": "markdown",
   "id": "0ec7168d-e451-44ea-83b0-e35e8f810d3c",
   "metadata": {},
   "source": [
    "- ### Pie chart showing the proportion of top 5 Authors."
   ]
  },
  {
   "cell_type": "code",
   "execution_count": null,
   "id": "e315e686-418f-4055-8955-587078e602cf",
   "metadata": {},
   "outputs": [],
   "source": [
    "# top five most Quoted authors\n",
    "grouped = df1.groupby('Author')['Quote'].count()       #grouping the authors by counting the Quotes  \n",
    "sort = grouped.sort_values(ascending = False)          #sort in desending order so highest will come first\n",
    "top_five_authors = sort.head()                         #Retriveing the top five records\n",
    "print(top_five_authors)                                    "
   ]
  },
  {
   "cell_type": "code",
   "execution_count": null,
   "id": "0d9959c7-09e7-4353-8084-b5cdd42db416",
   "metadata": {},
   "outputs": [],
   "source": [
    "plt.figure(figsize = (5,5))                             #adding the chart size                              \n",
    "plt.pie(x = top_five_authors,labels = top_five_authors.index,autopct = '%.2f%%')    \n",
    "plt.title('Top five most quoted of Authors')             #Adding the title for pie chart \n",
    "plt.show()"
   ]
  },
  {
   "cell_type": "markdown",
   "id": "58c5c0fb-6421-4657-8fd5-bb9706c7f2c8",
   "metadata": {},
   "source": [
    "#### Insights:\n",
    "- The above pie chart representing the top five most quoted Authors\n",
    "- 'Albert Einstein' is having the high percentage i.e 26.32% and the second highest author 'J.K. Rowling' with 23.68% of proportion\n",
    "- The Authors 'Dr. Seuss' and 'Mark Twain' are having the least proportion i.e,15.79% compared to all other Authors"
   ]
  }
 ],
 "metadata": {
  "kernelspec": {
   "display_name": "Python [conda env:base] *",
   "language": "python",
   "name": "conda-base-py"
  },
  "language_info": {
   "codemirror_mode": {
    "name": "ipython",
    "version": 3
   },
   "file_extension": ".py",
   "mimetype": "text/x-python",
   "name": "python",
   "nbconvert_exporter": "python",
   "pygments_lexer": "ipython3",
   "version": "3.12.7"
  }
 },
 "nbformat": 4,
 "nbformat_minor": 5
}
